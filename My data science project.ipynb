{
 "cells": [
  {
   "cell_type": "markdown",
   "metadata": {},
   "source": [
    "# My Datascience Project\n",
    "This project will assess the number of users who use an app. This data will likely show developers what type of apps are likely to attract more users. "
   ]
  },
  {
   "cell_type": "code",
   "execution_count": 1,
   "metadata": {},
   "outputs": [
    {
     "name": "stdout",
     "output_type": "stream",
     "text": [
      "['id', 'track_name', 'size_bytes', 'currency', 'price', 'rating_count_tot', 'rating_count_ver', 'user_rating', 'user_rating_ver', 'ver', 'cont_rating', 'prime_genre', 'sup_devices.num', 'ipadSc_urls.num', 'lang.num', 'vpp_lic']\n",
      "16\n",
      "['App', 'Category', 'Rating', 'Reviews', 'Size', 'Installs', 'Type', 'Price', 'Content Rating', 'Genres', 'Last Updated', 'Current Ver', 'Android Ver']\n",
      "13\n"
     ]
    }
   ],
   "source": [
    "from csv import reader \n",
    "#AppleStore.csv\n",
    "opened_file = open('AppleStore.csv')\n",
    "read_file = reader(opened_file)\n",
    "apple = list(read_file)\n",
    "apple_header = apple[0] \n",
    "apple = apple[1:]\n",
    "\n",
    "#Googleplaystore.csv\n",
    "opened_file = open('googleplaystore.csv')\n",
    "read_file = reader(opened_file)\n",
    "google = list(read_file)\n",
    "google_header = google[0]\n",
    "google = google[1:]\n",
    "\n",
    "print(apple_header)\n",
    "print(len(apple_header))\n",
    "print(google_header)\n",
    "print(len(google_header))"
   ]
  },
  {
   "cell_type": "markdown",
   "metadata": {},
   "source": [
    "\n",
    "## Exploring two data sets\n"
   ]
  },
  {
   "cell_type": "code",
   "execution_count": 2,
   "metadata": {},
   "outputs": [
    {
     "name": "stdout",
     "output_type": "stream",
     "text": [
      "['App', 'Category', 'Rating', 'Reviews', 'Size', 'Installs', 'Type', 'Price', 'Content Rating', 'Genres', 'Last Updated', 'Current Ver', 'Android Ver']\n",
      "\n",
      "\n",
      "['Photo Editor & Candy Camera & Grid & ScrapBook', 'ART_AND_DESIGN', '4.1', '159', '19M', '10,000+', 'Free', '0', 'Everyone', 'Art & Design', 'January 7, 2018', '1.0.0', '4.0.3 and up']\n",
      "\n",
      "\n",
      "['Coloring book moana', 'ART_AND_DESIGN', '3.9', '967', '14M', '500,000+', 'Free', '0', 'Everyone', 'Art & Design;Pretend Play', 'January 15, 2018', '2.0.0', '4.0.3 and up']\n",
      "\n",
      "\n",
      "['U Launcher Lite – FREE Live Cool Themes, Hide Apps', 'ART_AND_DESIGN', '4.7', '87510', '8.7M', '5,000,000+', 'Free', '0', 'Everyone', 'Art & Design', 'August 1, 2018', '1.2.4', '4.0.3 and up']\n",
      "\n",
      "\n",
      "Number of rows: 10841\n",
      "Number of columns: 13\n"
     ]
    }
   ],
   "source": [
    "def explore_data(dataset, start, end, rows_and_columns=False):\n",
    "    dataset_slice = dataset[start:end]\n",
    "    for row in dataset_slice:\n",
    "        print(row)\n",
    "        print('\\n') #adds a new (empty) line after each row\n",
    "        \n",
    "    if rows_and_columns:\n",
    "        print('Number of rows:',len(dataset))\n",
    "        print('Number of columns:',len(dataset[0]))\n",
    "        \n",
    "print(google_header)\n",
    "print('\\n')\n",
    "explore_data(google, 0, 3, True)\n",
    "## useful categories: app, catgegory, rating, reviews, installs, type, price, content rating \n",
    "## and genres\n",
    "        "
   ]
  },
  {
   "cell_type": "markdown",
   "metadata": {},
   "source": [
    "## apple data set"
   ]
  },
  {
   "cell_type": "code",
   "execution_count": 3,
   "metadata": {
    "scrolled": true
   },
   "outputs": [
    {
     "name": "stdout",
     "output_type": "stream",
     "text": [
      "['id', 'track_name', 'size_bytes', 'currency', 'price', 'rating_count_tot', 'rating_count_ver', 'user_rating', 'user_rating_ver', 'ver', 'cont_rating', 'prime_genre', 'sup_devices.num', 'ipadSc_urls.num', 'lang.num', 'vpp_lic']\n",
      "\n",
      "\n",
      "['284882215', 'Facebook', '389879808', 'USD', '0.0', '2974676', '212', '3.5', '3.5', '95.0', '4+', 'Social Networking', '37', '1', '29', '1']\n",
      "\n",
      "\n",
      "['389801252', 'Instagram', '113954816', 'USD', '0.0', '2161558', '1289', '4.5', '4.0', '10.23', '12+', 'Photo & Video', '37', '0', '29', '1']\n",
      "\n",
      "\n",
      "['529479190', 'Clash of Clans', '116476928', 'USD', '0.0', '2130805', '579', '4.5', '4.5', '9.24.12', '9+', 'Games', '38', '5', '18', '1']\n",
      "\n",
      "\n",
      "Number of rows: 7197\n",
      "Number of columns: 16\n"
     ]
    }
   ],
   "source": [
    "print(apple_header)\n",
    "print('\\n')\n",
    "explore_data(apple, 0, 3, True)\n",
    "## track_name, currency, price, rating_count_ver, user_rating \n",
    "## columns are not labeled the same as googlestore"
   ]
  },
  {
   "cell_type": "markdown",
   "metadata": {},
   "source": [
    "## Data cleaning\n",
    "apps that are free and are English-speaking audience \n",
    "print row according to discussion on kaggle and compare it to header and another row with all data values"
   ]
  },
  {
   "cell_type": "code",
   "execution_count": 4,
   "metadata": {},
   "outputs": [
    {
     "name": "stdout",
     "output_type": "stream",
     "text": [
      "['Life Made WI-Fi Touchscreen Photo Frame', '1.9', '19', '3.0M', '1,000+', 'Free', '0', 'Everyone', '', 'February 11, 2018', '1.0.19', '4.0 and up']\n",
      "\n",
      "\n",
      "['App', 'Category', 'Rating', 'Reviews', 'Size', 'Installs', 'Type', 'Price', 'Content Rating', 'Genres', 'Last Updated', 'Current Ver', 'Android Ver']\n",
      "\n",
      "\n",
      "['Photo Editor & Candy Camera & Grid & ScrapBook', 'ART_AND_DESIGN', '4.1', '159', '19M', '10,000+', 'Free', '0', 'Everyone', 'Art & Design', 'January 7, 2018', '1.0.0', '4.0.3 and up']\n",
      "\n",
      "\n"
     ]
    }
   ],
   "source": [
    "print(google[10472]) #Missing category and genre\n",
    "print('\\n')\n",
    "print(google_header) #header checking for missing data in 10472\n",
    "print('\\n')\n",
    "print(google[0]) #correct row with all data \n",
    "print('\\n')\n",
    "\n",
    "## in row 10742 can a catgeory be a float? \n",
    "## if category can be a float then rating is incorrect\n",
    "## rating is 19 out of possible 5 "
   ]
  },
  {
   "cell_type": "code",
   "execution_count": 5,
   "metadata": {},
   "outputs": [
    {
     "name": "stdout",
     "output_type": "stream",
     "text": [
      "10841\n",
      "10840\n"
     ]
    }
   ],
   "source": [
    "print(len(google))\n",
    "del google[10472]##I ran more than once and had to restart kernel\n",
    "print(len(google))"
   ]
  },
  {
   "cell_type": "markdown",
   "metadata": {},
   "source": [
    "## Deleting duplicate entries \n",
    "- We don't want to count certain apps more than one when we analyze data. \n",
    "- Remove duplicates and keep only one entry \n",
    "- Remove the older data sets and keep the most recent"
   ]
  },
  {
   "cell_type": "code",
   "execution_count": 6,
   "metadata": {},
   "outputs": [
    {
     "name": "stdout",
     "output_type": "stream",
     "text": [
      "['Instagram', 'SOCIAL', '4.5', '66577313', 'Varies with device', '1,000,000,000+', 'Free', '0', 'Teen', 'Social', 'July 31, 2018', 'Varies with device', 'Varies with device']\n",
      "['Instagram', 'SOCIAL', '4.5', '66577446', 'Varies with device', '1,000,000,000+', 'Free', '0', 'Teen', 'Social', 'July 31, 2018', 'Varies with device', 'Varies with device']\n",
      "['Instagram', 'SOCIAL', '4.5', '66577313', 'Varies with device', '1,000,000,000+', 'Free', '0', 'Teen', 'Social', 'July 31, 2018', 'Varies with device', 'Varies with device']\n",
      "['Instagram', 'SOCIAL', '4.5', '66509917', 'Varies with device', '1,000,000,000+', 'Free', '0', 'Teen', 'Social', 'July 31, 2018', 'Varies with device', 'Varies with device']\n"
     ]
    }
   ],
   "source": [
    "for app in google: \n",
    "    name = app[0]\n",
    "    if name == 'Instagram': \n",
    "        print(app)"
   ]
  },
  {
   "cell_type": "markdown",
   "metadata": {},
   "source": [
    "- create two lists \n",
    "- loop through google play data set and for each interations:\n",
    "- save the app name to a variable named **name**\n",
    "- if **name** in **unique_apps** list append **name** to the **duplicate_apps** list\n",
    "- else(if **name** isn't in **unique_apps** append name to **unique_apps** list"
   ]
  },
  {
   "cell_type": "code",
   "execution_count": 7,
   "metadata": {},
   "outputs": [
    {
     "name": "stdout",
     "output_type": "stream",
     "text": [
      "Number of duplicate apps: 1181\n",
      "\n",
      "\n",
      "Examples of duplicate apps: ['Quick PDF Scanner + OCR FREE', 'Box', 'Google My Business', 'ZOOM Cloud Meetings', 'join.me - Simple Meetings', 'Box', 'Zenefits', 'Google Ads', 'Google My Business', 'Slack', 'FreshBooks Classic', 'Insightly CRM', 'QuickBooks Accounting: Invoicing & Expenses', 'HipChat - Chat Built for Teams', 'Xero Accounting Software']\n"
     ]
    }
   ],
   "source": [
    "duplicate_apps = []\n",
    "unique_apps = []\n",
    "\n",
    "for app in google:\n",
    "    name = app[0]\n",
    "    if name in unique_apps:\n",
    "        duplicate_apps.append(name)\n",
    "    else: \n",
    "        unique_apps.append(name)\n",
    "        \n",
    "print('Number of duplicate apps:', len(duplicate_apps))\n",
    "print('\\n')\n",
    "print('Examples of duplicate apps:', duplicate_apps[:15])"
   ]
  },
  {
   "cell_type": "markdown",
   "metadata": {},
   "source": [
    "* We don't want to remove the duplicates randomly\n",
    "* We need to remove the duplicate entries and keep only one entry per app\n",
    "* Look at the apps number of reviews. The reviews indicate that the data was collected at different times \n",
    "* The reviews with the highest number of reviews is the most recent \n"
   ]
  },
  {
   "cell_type": "code",
   "execution_count": 9,
   "metadata": {},
   "outputs": [
    {
     "ename": "ValueError",
     "evalue": "could not convert string to float: '3.0M'",
     "output_type": "error",
     "traceback": [
      "\u001b[0;31m---------------------------------------------------------------------------\u001b[0m",
      "\u001b[0;31mValueError\u001b[0m                                Traceback (most recent call last)",
      "\u001b[0;32m<ipython-input-9-8a5696315056>\u001b[0m in \u001b[0;36m<module>\u001b[0;34m\u001b[0m\n\u001b[1;32m      3\u001b[0m \u001b[0;32mfor\u001b[0m \u001b[0mapp\u001b[0m \u001b[0;32min\u001b[0m \u001b[0mgoogle\u001b[0m\u001b[0;34m:\u001b[0m\u001b[0;34m\u001b[0m\u001b[0;34m\u001b[0m\u001b[0m\n\u001b[1;32m      4\u001b[0m     \u001b[0mname\u001b[0m \u001b[0;34m=\u001b[0m \u001b[0mapp\u001b[0m\u001b[0;34m[\u001b[0m\u001b[0;36m0\u001b[0m\u001b[0;34m]\u001b[0m\u001b[0;34m\u001b[0m\u001b[0;34m\u001b[0m\u001b[0m\n\u001b[0;32m----> 5\u001b[0;31m     \u001b[0mn_reviews\u001b[0m \u001b[0;34m=\u001b[0m \u001b[0mfloat\u001b[0m\u001b[0;34m(\u001b[0m\u001b[0mapp\u001b[0m\u001b[0;34m[\u001b[0m\u001b[0;36m3\u001b[0m\u001b[0;34m]\u001b[0m\u001b[0;34m)\u001b[0m\u001b[0;34m\u001b[0m\u001b[0;34m\u001b[0m\u001b[0m\n\u001b[0m\u001b[1;32m      6\u001b[0m \u001b[0;34m\u001b[0m\u001b[0m\n\u001b[1;32m      7\u001b[0m     \u001b[0;32mif\u001b[0m \u001b[0mname\u001b[0m \u001b[0;32min\u001b[0m \u001b[0mreviews_max\u001b[0m \u001b[0;32mand\u001b[0m \u001b[0mreviews_max\u001b[0m\u001b[0;34m[\u001b[0m\u001b[0mname\u001b[0m\u001b[0;34m]\u001b[0m \u001b[0;34m<\u001b[0m \u001b[0mn_reviews\u001b[0m\u001b[0;34m:\u001b[0m\u001b[0;34m\u001b[0m\u001b[0;34m\u001b[0m\u001b[0m\n",
      "\u001b[0;31mValueError\u001b[0m: could not convert string to float: '3.0M'"
     ]
    }
   ],
   "source": [
    "reviews_max = {}\n",
    "\n",
    "for app in google:\n",
    "    name = app[0]\n",
    "    n_reviews = float(app[3])\n",
    "    \n",
    "    if name in reviews_max and reviews_max[name] < n_reviews:\n",
    "        reviews_max[name] = n_reviews\n",
    "        \n",
    "    elif name not in reviews_max:\n",
    "        reviews_max[name] = n_reviews\n",
    "        \n",
    "print(len(reviews_max)) ##9659 entries  "
   ]
  },
  {
   "cell_type": "code",
   "execution_count": 9,
   "metadata": {},
   "outputs": [
    {
     "name": "stdout",
     "output_type": "stream",
     "text": [
      "Expected length: 9659\n"
     ]
    }
   ],
   "source": [
    "print('Expected length:', len(google) - 1181)"
   ]
  },
  {
   "cell_type": "markdown",
   "metadata": {},
   "source": [
    "* create two empty lists google_clean and already_added\n",
    "* loop through google data set, don't include header row\n",
    "* isolate the name of the app and the number of reviews \n",
    "* add current row (app) to the google_clean list and the app name (name) to the already_added list \n",
    "* if the number of reviews of the current app matches the number of reviews of that app as described in the reviews_max dictionary AND \n",
    "* the name of the app is not already in the already_added list. We add this supplementary condition to account for those cases where the highest number of reviews of a duplicate app is the same or more than one entry. "
   ]
  },
  {
   "cell_type": "code",
   "execution_count": 10,
   "metadata": {},
   "outputs": [],
   "source": [
    "google_clean = []\n",
    "already_added = []\n",
    "\n",
    "for app in google:\n",
    "    name = app[0]\n",
    "    n_reviews = float(app[3])\n",
    "    \n",
    "    if (reviews_max[name] == n_reviews) and (name not in already_added):\n",
    "        google_clean.append(app)\n",
    "        already_added.append(name) "
   ]
  },
  {
   "cell_type": "code",
   "execution_count": 11,
   "metadata": {},
   "outputs": [
    {
     "name": "stdout",
     "output_type": "stream",
     "text": [
      "['Photo Editor & Candy Camera & Grid & ScrapBook', 'ART_AND_DESIGN', '4.1', '159', '19M', '10,000+', 'Free', '0', 'Everyone', 'Art & Design', 'January 7, 2018', '1.0.0', '4.0.3 and up']\n",
      "\n",
      "\n",
      "['U Launcher Lite – FREE Live Cool Themes, Hide Apps', 'ART_AND_DESIGN', '4.7', '87510', '8.7M', '5,000,000+', 'Free', '0', 'Everyone', 'Art & Design', 'August 1, 2018', '1.2.4', '4.0.3 and up']\n",
      "\n",
      "\n",
      "['Sketch - Draw & Paint', 'ART_AND_DESIGN', '4.5', '215644', '25M', '50,000,000+', 'Free', '0', 'Teen', 'Art & Design', 'June 8, 2018', 'Varies with device', '4.2 and up']\n",
      "\n",
      "\n",
      "Number of rows: 9659\n",
      "Number of columns: 13\n"
     ]
    }
   ],
   "source": [
    "explore_data(google_clean, 0, 3, True)"
   ]
  },
  {
   "cell_type": "code",
   "execution_count": 12,
   "metadata": {},
   "outputs": [
    {
     "name": "stdout",
     "output_type": "stream",
     "text": [
      "爱奇艺PPS -《欢乐颂2》电视剧热播\n",
      "【脱出ゲーム】絶対に最後までプレイしないで 〜謎解き＆ブロックパズル〜\n",
      "中国語 AQリスニング\n",
      "لعبة تقدر تربح DZ\n"
     ]
    }
   ],
   "source": [
    "print(apple[813][1])\n",
    "print(apple[6731][1])\n",
    "\n",
    "print(google_clean[4412][0])\n",
    "print(google_clean[7940][0])"
   ]
  },
  {
   "cell_type": "code",
   "execution_count": 14,
   "metadata": {},
   "outputs": [
    {
     "name": "stdout",
     "output_type": "stream",
     "text": [
      "True\n",
      "False\n"
     ]
    }
   ],
   "source": [
    "def is_english(string):\n",
    "    \n",
    "    for character in string:\n",
    "        if ord(character) > 127:\n",
    "            return False\n",
    "    \n",
    "    return True\n",
    "\n",
    "print(is_english('Instagram'))\n",
    "print(is_english('爱奇艺PPS -《欢乐颂2》电视剧热播'))"
   ]
  },
  {
   "cell_type": "code",
   "execution_count": 15,
   "metadata": {},
   "outputs": [
    {
     "name": "stdout",
     "output_type": "stream",
     "text": [
      "False\n",
      "False\n",
      "8482\n",
      "128540\n"
     ]
    }
   ],
   "source": [
    "print(is_english('Docs To Go™ Free Office Suite'))\n",
    "print(is_english('Instachat 😜'))\n",
    "\n",
    "print(ord('™'))\n",
    "print(ord('😜'))"
   ]
  },
  {
   "cell_type": "markdown",
   "metadata": {},
   "source": [
    "* the two apps above are English speaking apps \n",
    "* incorrectly identified because of the emoji and character use ™ \n",
    "* these fall outside the ASCII range and have corresponding numbers over 127 \n",
    "* to prevent data loss \n",
    "* remove an app if its name contains more than 3 non ASCII characters\n"
   ]
  },
  {
   "cell_type": "code",
   "execution_count": 16,
   "metadata": {},
   "outputs": [
    {
     "name": "stdout",
     "output_type": "stream",
     "text": [
      "True\n",
      "True\n"
     ]
    }
   ],
   "source": [
    "def is_english(string):\n",
    "    non_ascii = 0\n",
    "    \n",
    "    for character in string:\n",
    "        if ord(character) > 127:\n",
    "            non_ascii += 1\n",
    "    \n",
    "    if non_ascii > 3:\n",
    "        return False\n",
    "    else:\n",
    "        return True\n",
    "\n",
    "print(is_english('Docs To Go™ Free Office Suite'))\n",
    "print(is_english('Instachat 😜'))\n",
    "    "
   ]
  },
  {
   "cell_type": "code",
   "execution_count": 17,
   "metadata": {},
   "outputs": [
    {
     "name": "stdout",
     "output_type": "stream",
     "text": [
      "['Photo Editor & Candy Camera & Grid & ScrapBook', 'ART_AND_DESIGN', '4.1', '159', '19M', '10,000+', 'Free', '0', 'Everyone', 'Art & Design', 'January 7, 2018', '1.0.0', '4.0.3 and up']\n",
      "\n",
      "\n",
      "['U Launcher Lite – FREE Live Cool Themes, Hide Apps', 'ART_AND_DESIGN', '4.7', '87510', '8.7M', '5,000,000+', 'Free', '0', 'Everyone', 'Art & Design', 'August 1, 2018', '1.2.4', '4.0.3 and up']\n",
      "\n",
      "\n",
      "['Sketch - Draw & Paint', 'ART_AND_DESIGN', '4.5', '215644', '25M', '50,000,000+', 'Free', '0', 'Teen', 'Art & Design', 'June 8, 2018', 'Varies with device', '4.2 and up']\n",
      "\n",
      "\n",
      "Number of rows: 9614\n",
      "Number of columns: 13\n",
      "\n",
      "\n",
      "['284882215', 'Facebook', '389879808', 'USD', '0.0', '2974676', '212', '3.5', '3.5', '95.0', '4+', 'Social Networking', '37', '1', '29', '1']\n",
      "\n",
      "\n",
      "['389801252', 'Instagram', '113954816', 'USD', '0.0', '2161558', '1289', '4.5', '4.0', '10.23', '12+', 'Photo & Video', '37', '0', '29', '1']\n",
      "\n",
      "\n",
      "['529479190', 'Clash of Clans', '116476928', 'USD', '0.0', '2130805', '579', '4.5', '4.5', '9.24.12', '9+', 'Games', '38', '5', '18', '1']\n",
      "\n",
      "\n",
      "Number of rows: 6183\n",
      "Number of columns: 16\n"
     ]
    }
   ],
   "source": [
    "google_english = []\n",
    "apple_english = []\n",
    "\n",
    "for app in google_clean:\n",
    "    name = app[0]\n",
    "    if is_english(name):\n",
    "        google_english.append(app)\n",
    "        \n",
    "for app in apple:\n",
    "    name = app[1]\n",
    "    if is_english(name):\n",
    "        apple_english.append(app)\n",
    "        \n",
    "explore_data(google_english, 0, 3, True)\n",
    "print('\\n')\n",
    "explore_data(apple_english, 0, 3, True)"
   ]
  },
  {
   "cell_type": "code",
   "execution_count": 18,
   "metadata": {},
   "outputs": [
    {
     "name": "stdout",
     "output_type": "stream",
     "text": [
      "8864\n",
      "3222\n"
     ]
    }
   ],
   "source": [
    "google_final = []\n",
    "apple_final = []\n",
    "\n",
    "for app in google_english: \n",
    "    price = app[7]\n",
    "    if price == '0':\n",
    "        google_final.append(app)\n",
    "        \n",
    "for app in apple_english:\n",
    "    price = app[4]\n",
    "    if price == '0.0':\n",
    "        apple_final.append(app)\n",
    "        \n",
    "print(len(google_final))\n",
    "print(len(apple_final))"
   ]
  },
  {
   "cell_type": "markdown",
   "metadata": {},
   "source": [
    "## Most Common Genres for Each Market\n",
    "We need to find apps that are successful in both markers, so that we can add our app to the apple and g oogle store.\n",
    "\n",
    "* build a frequency table for the prime_genre column in Apple Store\n",
    "* build a frequency table for genres and category columns in google play store"
   ]
  },
  {
   "cell_type": "code",
   "execution_count": 33,
   "metadata": {},
   "outputs": [],
   "source": [
    "def freq_table(dataset, index):\n",
    "    table = {}\n",
    "    total = 0\n",
    "    \n",
    "    for row in dataset:\n",
    "        total += 1\n",
    "        value = row[index]\n",
    "        if value in table:\n",
    "            table[value] += 1\n",
    "        else:\n",
    "            table[value] = 1\n",
    "    \n",
    "    table_percentages = {}\n",
    "    for key in table:\n",
    "        percentage = (table[key] / total) * 100\n",
    "        table_percentages[key] = percentage \n",
    "    \n",
    "    return table_percentages\n",
    "\n",
    "\n",
    "def display_table(dataset, index):\n",
    "    table = freq_table(dataset, index)\n",
    "    table_display = []\n",
    "    for key in table:\n",
    "        key_val_as_tuple = (table[key], key)\n",
    "        table_display.append(key_val_as_tuple)\n",
    "        \n",
    "    table_sorted = sorted(table_display, reverse = True)\n",
    "    for entry in table_sorted:\n",
    "        print(entry[1], ':', entry[0])"
   ]
  },
  {
   "cell_type": "code",
   "execution_count": 34,
   "metadata": {},
   "outputs": [
    {
     "name": "stdout",
     "output_type": "stream",
     "text": [
      "Games : 58.16263190564867\n",
      "Entertainment : 7.883302296710118\n",
      "Photo & Video : 4.9658597144630665\n",
      "Education : 3.662321539416512\n",
      "Social Networking : 3.2898820608317814\n",
      "Shopping : 2.60707635009311\n",
      "Utilities : 2.5139664804469275\n",
      "Sports : 2.1415270018621975\n",
      "Music : 2.0484171322160147\n",
      "Health & Fitness : 2.0173805090006205\n",
      "Productivity : 1.7380509000620732\n",
      "Lifestyle : 1.5828677839851024\n",
      "News : 1.3345747982619491\n",
      "Travel : 1.2414649286157666\n",
      "Finance : 1.1173184357541899\n",
      "Weather : 0.8690254500310366\n",
      "Food & Drink : 0.8069522036002483\n",
      "Reference : 0.5586592178770949\n",
      "Business : 0.5276225946617008\n",
      "Book : 0.4345127250155183\n",
      "Navigation : 0.186219739292365\n",
      "Medical : 0.186219739292365\n",
      "Catalogs : 0.12414649286157665\n"
     ]
    }
   ],
   "source": [
    "display_table(apple_final, -5) ##prime genre -5 (5th to last element)"
   ]
  },
  {
   "cell_type": "markdown",
   "metadata": {},
   "source": [
    "## Notes \n",
    "* most common genre = Games 58.16%\n",
    "* Entertainment = 7.8 % \n",
    "* photo and video = 4.9% \n",
    "* education = 3.6% \n",
    "* social networking = 3.2%\n"
   ]
  },
  {
   "cell_type": "code",
   "execution_count": 35,
   "metadata": {},
   "outputs": [
    {
     "name": "stdout",
     "output_type": "stream",
     "text": [
      "FAMILY : 18.907942238267147\n",
      "GAME : 9.724729241877256\n",
      "TOOLS : 8.461191335740072\n",
      "BUSINESS : 4.591606498194946\n",
      "LIFESTYLE : 3.9034296028880866\n",
      "PRODUCTIVITY : 3.892148014440433\n",
      "FINANCE : 3.7003610108303246\n",
      "MEDICAL : 3.531137184115524\n",
      "SPORTS : 3.395758122743682\n",
      "PERSONALIZATION : 3.3167870036101084\n",
      "COMMUNICATION : 3.2378158844765346\n",
      "HEALTH_AND_FITNESS : 3.0798736462093865\n",
      "PHOTOGRAPHY : 2.944494584837545\n",
      "NEWS_AND_MAGAZINES : 2.7978339350180503\n",
      "SOCIAL : 2.6624548736462095\n",
      "TRAVEL_AND_LOCAL : 2.33528880866426\n",
      "SHOPPING : 2.2450361010830324\n",
      "BOOKS_AND_REFERENCE : 2.1435018050541514\n",
      "DATING : 1.861462093862816\n",
      "VIDEO_PLAYERS : 1.7937725631768955\n",
      "MAPS_AND_NAVIGATION : 1.3989169675090252\n",
      "FOOD_AND_DRINK : 1.2409747292418771\n",
      "EDUCATION : 1.1620036101083033\n",
      "ENTERTAINMENT : 0.9589350180505415\n",
      "LIBRARIES_AND_DEMO : 0.9363718411552346\n",
      "AUTO_AND_VEHICLES : 0.9250902527075812\n",
      "HOUSE_AND_HOME : 0.8235559566787004\n",
      "WEATHER : 0.8009927797833934\n",
      "EVENTS : 0.7107400722021661\n",
      "PARENTING : 0.6543321299638989\n",
      "ART_AND_DESIGN : 0.6430505415162455\n",
      "COMICS : 0.6204873646209386\n",
      "BEAUTY : 0.5979241877256317\n"
     ]
    }
   ],
   "source": [
    "display_table(google_final, 1)## category"
   ]
  },
  {
   "cell_type": "markdown",
   "metadata": {},
   "source": [
    "## Most common genres for google app store\n",
    "* categories are listed differently in the google store \n",
    "* it appears that the google store as more application and practicality than the apple store. "
   ]
  },
  {
   "cell_type": "code",
   "execution_count": 37,
   "metadata": {},
   "outputs": [
    {
     "name": "stdout",
     "output_type": "stream",
     "text": [
      "Tools : 8.449909747292418\n",
      "Entertainment : 6.069494584837545\n",
      "Education : 5.347472924187725\n",
      "Business : 4.591606498194946\n",
      "Productivity : 3.892148014440433\n",
      "Lifestyle : 3.892148014440433\n",
      "Finance : 3.7003610108303246\n",
      "Medical : 3.531137184115524\n",
      "Sports : 3.463447653429603\n",
      "Personalization : 3.3167870036101084\n",
      "Communication : 3.2378158844765346\n",
      "Action : 3.1024368231046933\n",
      "Health & Fitness : 3.0798736462093865\n",
      "Photography : 2.944494584837545\n",
      "News & Magazines : 2.7978339350180503\n",
      "Social : 2.6624548736462095\n",
      "Travel & Local : 2.3240072202166067\n",
      "Shopping : 2.2450361010830324\n",
      "Books & Reference : 2.1435018050541514\n",
      "Simulation : 2.0419675090252705\n",
      "Dating : 1.861462093862816\n",
      "Arcade : 1.8501805054151623\n",
      "Video Players & Editors : 1.7712093862815883\n",
      "Casual : 1.7599277978339352\n",
      "Maps & Navigation : 1.3989169675090252\n",
      "Food & Drink : 1.2409747292418771\n",
      "Puzzle : 1.128158844765343\n",
      "Racing : 0.9927797833935018\n",
      "Role Playing : 0.9363718411552346\n",
      "Libraries & Demo : 0.9363718411552346\n",
      "Auto & Vehicles : 0.9250902527075812\n",
      "Strategy : 0.9138086642599278\n",
      "House & Home : 0.8235559566787004\n",
      "Weather : 0.8009927797833934\n",
      "Events : 0.7107400722021661\n",
      "Adventure : 0.6768953068592057\n",
      "Comics : 0.6092057761732852\n",
      "Beauty : 0.5979241877256317\n",
      "Art & Design : 0.5979241877256317\n",
      "Parenting : 0.4963898916967509\n",
      "Card : 0.45126353790613716\n",
      "Casino : 0.42870036101083037\n",
      "Trivia : 0.41741877256317694\n",
      "Educational;Education : 0.39485559566787\n",
      "Board : 0.3835740072202166\n",
      "Educational : 0.3722924187725632\n",
      "Education;Education : 0.33844765342960287\n",
      "Word : 0.2594765342960289\n",
      "Casual;Pretend Play : 0.236913357400722\n",
      "Music : 0.2030685920577617\n",
      "Racing;Action & Adventure : 0.16922382671480143\n",
      "Puzzle;Brain Games : 0.16922382671480143\n",
      "Entertainment;Music & Video : 0.16922382671480143\n",
      "Casual;Brain Games : 0.13537906137184114\n",
      "Casual;Action & Adventure : 0.13537906137184114\n",
      "Arcade;Action & Adventure : 0.12409747292418773\n",
      "Action;Action & Adventure : 0.10153429602888085\n",
      "Educational;Pretend Play : 0.09025270758122744\n",
      "Simulation;Action & Adventure : 0.078971119133574\n",
      "Parenting;Education : 0.078971119133574\n",
      "Entertainment;Brain Games : 0.078971119133574\n",
      "Board;Brain Games : 0.078971119133574\n",
      "Parenting;Music & Video : 0.06768953068592057\n",
      "Educational;Brain Games : 0.06768953068592057\n",
      "Casual;Creativity : 0.06768953068592057\n",
      "Art & Design;Creativity : 0.06768953068592057\n",
      "Education;Pretend Play : 0.056407942238267145\n",
      "Role Playing;Pretend Play : 0.04512635379061372\n",
      "Education;Creativity : 0.04512635379061372\n",
      "Role Playing;Action & Adventure : 0.033844765342960284\n",
      "Puzzle;Action & Adventure : 0.033844765342960284\n",
      "Entertainment;Creativity : 0.033844765342960284\n",
      "Entertainment;Action & Adventure : 0.033844765342960284\n",
      "Educational;Creativity : 0.033844765342960284\n",
      "Educational;Action & Adventure : 0.033844765342960284\n",
      "Education;Music & Video : 0.033844765342960284\n",
      "Education;Brain Games : 0.033844765342960284\n",
      "Education;Action & Adventure : 0.033844765342960284\n",
      "Adventure;Action & Adventure : 0.033844765342960284\n",
      "Video Players & Editors;Music & Video : 0.02256317689530686\n",
      "Sports;Action & Adventure : 0.02256317689530686\n",
      "Simulation;Pretend Play : 0.02256317689530686\n",
      "Puzzle;Creativity : 0.02256317689530686\n",
      "Music;Music & Video : 0.02256317689530686\n",
      "Entertainment;Pretend Play : 0.02256317689530686\n",
      "Casual;Education : 0.02256317689530686\n",
      "Board;Action & Adventure : 0.02256317689530686\n",
      "Video Players & Editors;Creativity : 0.01128158844765343\n",
      "Trivia;Education : 0.01128158844765343\n",
      "Travel & Local;Action & Adventure : 0.01128158844765343\n",
      "Tools;Education : 0.01128158844765343\n",
      "Strategy;Education : 0.01128158844765343\n",
      "Strategy;Creativity : 0.01128158844765343\n",
      "Strategy;Action & Adventure : 0.01128158844765343\n",
      "Simulation;Education : 0.01128158844765343\n",
      "Role Playing;Brain Games : 0.01128158844765343\n",
      "Racing;Pretend Play : 0.01128158844765343\n",
      "Puzzle;Education : 0.01128158844765343\n",
      "Parenting;Brain Games : 0.01128158844765343\n",
      "Music & Audio;Music & Video : 0.01128158844765343\n",
      "Lifestyle;Pretend Play : 0.01128158844765343\n",
      "Lifestyle;Education : 0.01128158844765343\n",
      "Health & Fitness;Education : 0.01128158844765343\n",
      "Health & Fitness;Action & Adventure : 0.01128158844765343\n",
      "Entertainment;Education : 0.01128158844765343\n",
      "Communication;Creativity : 0.01128158844765343\n",
      "Comics;Creativity : 0.01128158844765343\n",
      "Casual;Music & Video : 0.01128158844765343\n",
      "Card;Action & Adventure : 0.01128158844765343\n",
      "Books & Reference;Education : 0.01128158844765343\n",
      "Art & Design;Pretend Play : 0.01128158844765343\n",
      "Art & Design;Action & Adventure : 0.01128158844765343\n",
      "Arcade;Pretend Play : 0.01128158844765343\n",
      "Adventure;Education : 0.01128158844765343\n"
     ]
    }
   ],
   "source": [
    "display_table(google_final, -4) ##genres"
   ]
  },
  {
   "cell_type": "markdown",
   "metadata": {},
   "source": [
    "##Notes between categories and genre \n",
    "* genres column produces more categories than \n",
    "categories list \n",
    "* apple store has more apps designed for fun that are being downloaded where as google play as a balanced amount for practical and fun apps"
   ]
  },
  {
   "cell_type": "code",
   "execution_count": 41,
   "metadata": {},
   "outputs": [
    {
     "name": "stdout",
     "output_type": "stream",
     "text": [
      "Social Networking : 71548.34905660378\n",
      "Photo & Video : 28441.54375\n",
      "Games : 22788.6696905016\n",
      "Music : 57326.530303030304\n",
      "Reference : 74942.11111111111\n",
      "Health & Fitness : 23298.015384615384\n",
      "Weather : 52279.892857142855\n",
      "Utilities : 18684.456790123455\n",
      "Travel : 28243.8\n",
      "Shopping : 26919.690476190477\n",
      "News : 21248.023255813954\n",
      "Navigation : 86090.33333333333\n",
      "Lifestyle : 16485.764705882353\n",
      "Entertainment : 14029.830708661417\n",
      "Food & Drink : 33333.92307692308\n",
      "Sports : 23008.898550724636\n",
      "Book : 39758.5\n",
      "Finance : 31467.944444444445\n",
      "Education : 7003.983050847458\n",
      "Productivity : 21028.410714285714\n",
      "Business : 7491.117647058823\n",
      "Catalogs : 4004.0\n",
      "Medical : 612.0\n"
     ]
    }
   ],
   "source": [
    "genres_apple = freq_table(apple_final, -5)\n",
    "\n",
    "for genre in genres_apple:\n",
    "    total = 0\n",
    "    len_genre = 0\n",
    "    for app in apple_final:\n",
    "        genre_app = app[-5]\n",
    "        if genre_app == genre:            \n",
    "            n_ratings = float(app[5])\n",
    "            total += n_ratings\n",
    "            len_genre += 1\n",
    "    avg_n_ratings = total / len_genre\n",
    "    print(genre, ':', avg_n_ratings)"
   ]
  },
  {
   "cell_type": "markdown",
   "metadata": {},
   "source": [
    "Navigation apps have the highest number of user reviews "
   ]
  },
  {
   "cell_type": "code",
   "execution_count": 43,
   "metadata": {},
   "outputs": [
    {
     "name": "stdout",
     "output_type": "stream",
     "text": [
      "Waze - GPS Navigation, Maps & Real-time Traffic : 345046\n",
      "Google Maps - Navigation & Transit : 154911\n",
      "Geocaching® : 12811\n",
      "CoPilot GPS – Car Navigation & Offline Maps : 3582\n",
      "ImmobilienScout24: Real Estate Search in Germany : 187\n",
      "Railway Route Search : 5\n"
     ]
    }
   ],
   "source": [
    "for app in apple_final:\n",
    "    if app[-5] == 'Navigation':\n",
    "        print(app[1], ':', app[5])"
   ]
  },
  {
   "cell_type": "code",
   "execution_count": 44,
   "metadata": {},
   "outputs": [
    {
     "name": "stdout",
     "output_type": "stream",
     "text": [
      "Bible : 985920\n",
      "Dictionary.com Dictionary & Thesaurus : 200047\n",
      "Dictionary.com Dictionary & Thesaurus for iPad : 54175\n",
      "Google Translate : 26786\n",
      "Muslim Pro: Ramadan 2017 Prayer Times, Azan, Quran : 18418\n",
      "New Furniture Mods - Pocket Wiki & Game Tools for Minecraft PC Edition : 17588\n",
      "Merriam-Webster Dictionary : 16849\n",
      "Night Sky : 12122\n",
      "City Maps for Minecraft PE - The Best Maps for Minecraft Pocket Edition (MCPE) : 8535\n",
      "LUCKY BLOCK MOD ™ for Minecraft PC Edition - The Best Pocket Wiki & Mods Installer Tools : 4693\n",
      "GUNS MODS for Minecraft PC Edition - Mods Tools : 1497\n",
      "Guides for Pokémon GO - Pokemon GO News and Cheats : 826\n",
      "WWDC : 762\n",
      "Horror Maps for Minecraft PE - Download The Scariest Maps for Minecraft Pocket Edition (MCPE) Free : 718\n",
      "VPN Express : 14\n",
      "Real Bike Traffic Rider Virtual Reality Glasses : 8\n",
      "教えて!goo : 0\n",
      "Jishokun-Japanese English Dictionary & Translator : 0\n"
     ]
    }
   ],
   "source": [
    "for app in apple_final:\n",
    "    if app[-5] == 'Reference':\n",
    "        print(app[1], ':', app[5])"
   ]
  },
  {
   "cell_type": "markdown",
   "metadata": {},
   "source": [
    "## app profile recommendation for the app store\n",
    "* Shopping apps which include clothing, shoes, buying goods\n",
    "* Business apps which include venmo, paypal, cash app, banking"
   ]
  },
  {
   "cell_type": "code",
   "execution_count": 45,
   "metadata": {
    "scrolled": true
   },
   "outputs": [
    {
     "name": "stdout",
     "output_type": "stream",
     "text": [
      "1,000,000+ : 15.726534296028879\n",
      "100,000+ : 11.552346570397113\n",
      "10,000,000+ : 10.548285198555957\n",
      "10,000+ : 10.198555956678701\n",
      "1,000+ : 8.393501805054152\n",
      "100+ : 6.915613718411552\n",
      "5,000,000+ : 6.825361010830325\n",
      "500,000+ : 5.561823104693141\n",
      "50,000+ : 4.7721119133574\n",
      "5,000+ : 4.512635379061372\n",
      "10+ : 3.5424187725631766\n",
      "500+ : 3.2490974729241873\n",
      "50,000,000+ : 2.3014440433213\n",
      "100,000,000+ : 2.1322202166064983\n",
      "50+ : 1.917870036101083\n",
      "5+ : 0.78971119133574\n",
      "1+ : 0.5076714801444043\n",
      "500,000,000+ : 0.2707581227436823\n",
      "1,000,000,000+ : 0.22563176895306858\n",
      "0+ : 0.04512635379061372\n",
      "0 : 0.01128158844765343\n"
     ]
    }
   ],
   "source": [
    "display_table(google_final, 5)"
   ]
  },
  {
   "cell_type": "markdown",
   "metadata": {},
   "source": [
    "## Notes \n",
    "* We don't know whethere an app with 100,000+ installs has, 200,000, or 350,000.\n",
    "* We don't need precise data for our purposes \n",
    "* We only want to find out which app genres attract most users \n",
    "* Consider that an app with 100,000 + installs has 100,000 installs\n",
    "* An app with 1,000,000+ installs has 1,000,000 installs and so on.\n"
   ]
  },
  {
   "cell_type": "code",
   "execution_count": 46,
   "metadata": {},
   "outputs": [
    {
     "name": "stdout",
     "output_type": "stream",
     "text": [
      "ART_AND_DESIGN : 1986335.0877192982\n",
      "AUTO_AND_VEHICLES : 647317.8170731707\n",
      "BEAUTY : 513151.88679245283\n",
      "BOOKS_AND_REFERENCE : 8767811.894736841\n",
      "BUSINESS : 1712290.1474201474\n",
      "COMICS : 817657.2727272727\n",
      "COMMUNICATION : 38456119.167247385\n",
      "DATING : 854028.8303030303\n",
      "EDUCATION : 1833495.145631068\n",
      "ENTERTAINMENT : 11640705.88235294\n",
      "EVENTS : 253542.22222222222\n",
      "FINANCE : 1387692.475609756\n",
      "FOOD_AND_DRINK : 1924897.7363636363\n",
      "HEALTH_AND_FITNESS : 4188821.9853479853\n",
      "HOUSE_AND_HOME : 1331540.5616438356\n",
      "LIBRARIES_AND_DEMO : 638503.734939759\n",
      "LIFESTYLE : 1437816.2687861272\n",
      "GAME : 15588015.603248259\n",
      "FAMILY : 3695641.8198090694\n",
      "MEDICAL : 120550.61980830671\n",
      "SOCIAL : 23253652.127118643\n",
      "SHOPPING : 7036877.311557789\n",
      "PHOTOGRAPHY : 17840110.40229885\n",
      "SPORTS : 3638640.1428571427\n",
      "TRAVEL_AND_LOCAL : 13984077.710144928\n",
      "TOOLS : 10801391.298666667\n",
      "PERSONALIZATION : 5201482.6122448975\n",
      "PRODUCTIVITY : 16787331.344927534\n",
      "PARENTING : 542603.6206896552\n",
      "WEATHER : 5074486.197183099\n",
      "VIDEO_PLAYERS : 24727872.452830188\n",
      "NEWS_AND_MAGAZINES : 9549178.467741935\n",
      "MAPS_AND_NAVIGATION : 4056941.7741935486\n"
     ]
    }
   ],
   "source": [
    "categories_google = freq_table(google_final, 1)\n",
    "\n",
    "for category in categories_google:\n",
    "    total = 0\n",
    "    len_category = 0\n",
    "    for app in google_final:\n",
    "        category_app = app[1]\n",
    "        if category_app == category:            \n",
    "            n_installs = app[5]\n",
    "            n_installs = n_installs.replace(',', '')\n",
    "            n_installs = n_installs.replace('+', '')\n",
    "            total += float(n_installs)\n",
    "            len_category += 1\n",
    "    avg_n_installs = total / len_category\n",
    "    print(category, ':', avg_n_installs)"
   ]
  },
  {
   "cell_type": "markdown",
   "metadata": {},
   "source": [
    "Communication apps have the most installs at 38,456,119 \n",
    "* We will take a look at the apps that have the most installs within communication apps"
   ]
  },
  {
   "cell_type": "code",
   "execution_count": 47,
   "metadata": {},
   "outputs": [
    {
     "name": "stdout",
     "output_type": "stream",
     "text": [
      "WhatsApp Messenger : 1,000,000,000+\n",
      "imo beta free calls and text : 100,000,000+\n",
      "Android Messages : 100,000,000+\n",
      "Google Duo - High Quality Video Calls : 500,000,000+\n",
      "Messenger – Text and Video Chat for Free : 1,000,000,000+\n",
      "imo free video calls and chat : 500,000,000+\n",
      "Skype - free IM & video calls : 1,000,000,000+\n",
      "Who : 100,000,000+\n",
      "GO SMS Pro - Messenger, Free Themes, Emoji : 100,000,000+\n",
      "LINE: Free Calls & Messages : 500,000,000+\n",
      "Google Chrome: Fast & Secure : 1,000,000,000+\n",
      "Firefox Browser fast & private : 100,000,000+\n",
      "UC Browser - Fast Download Private & Secure : 500,000,000+\n",
      "Gmail : 1,000,000,000+\n",
      "Hangouts : 1,000,000,000+\n",
      "Messenger Lite: Free Calls & Messages : 100,000,000+\n",
      "Kik : 100,000,000+\n",
      "KakaoTalk: Free Calls & Text : 100,000,000+\n",
      "Opera Mini - fast web browser : 100,000,000+\n",
      "Opera Browser: Fast and Secure : 100,000,000+\n",
      "Telegram : 100,000,000+\n",
      "Truecaller: Caller ID, SMS spam blocking & Dialer : 100,000,000+\n",
      "UC Browser Mini -Tiny Fast Private & Secure : 100,000,000+\n",
      "Viber Messenger : 500,000,000+\n",
      "WeChat : 100,000,000+\n",
      "Yahoo Mail – Stay Organized : 100,000,000+\n",
      "BBM - Free Calls & Messages : 100,000,000+\n"
     ]
    }
   ],
   "source": [
    "for app in google_final:\n",
    "    if app[1] == 'COMMUNICATION' and (app[5] == '1,000,000,000+'\n",
    "                                      or app[5] == '500,000,000+'\n",
    "                                      or app[5] == '100,000,000+'):\n",
    "        print(app[0], ':', app[5])"
   ]
  },
  {
   "cell_type": "markdown",
   "metadata": {},
   "source": [
    "remove communications apps that have over 100 million installs"
   ]
  },
  {
   "cell_type": "markdown",
   "metadata": {},
   "source": [
    "* Communication installs 38,456,119\n",
    "* Removed communication 36,034,85"
   ]
  },
  {
   "cell_type": "markdown",
   "metadata": {},
   "source": [
    "There are a small amount of popular apps that skew the average"
   ]
  },
  {
   "cell_type": "code",
   "execution_count": 53,
   "metadata": {},
   "outputs": [
    {
     "data": {
      "text/plain": [
       "3603485.3884615386"
      ]
     },
     "execution_count": 53,
     "metadata": {},
     "output_type": "execute_result"
    }
   ],
   "source": [
    "under_100_m = []\n",
    "\n",
    "for app in google_final:\n",
    "    n_installs = app[5]\n",
    "    n_installs = n_installs.replace(',', '')\n",
    "    n_installs = n_installs.replace('+', '')\n",
    "    if (app[1] == 'COMMUNICATION') and (float(n_installs) < 100000000):\n",
    "        under_100_m.append(float(n_installs))\n",
    "        \n",
    "sum(under_100_m) / len(under_100_m)"
   ]
  },
  {
   "cell_type": "code",
   "execution_count": 55,
   "metadata": {},
   "outputs": [
    {
     "name": "stdout",
     "output_type": "stream",
     "text": [
      "Amazon for Tablets : 10,000,000+\n",
      "OfferUp - Buy. Sell. Offer Up : 10,000,000+\n",
      "Shopee - No. 1 Online Shopping : 10,000,000+\n",
      "Shopee: No.1 Online Shopping : 10,000,000+\n",
      "Kroger : 5,000,000+\n",
      "Walmart : 10,000,000+\n",
      "eBay: Buy & Sell this Summer - Discover Deals Now! : 100,000,000+\n",
      "letgo: Buy & Sell Used Stuff, Cars & Real Estate : 50,000,000+\n",
      "Amazon Shopping : 100,000,000+\n",
      "Lazada - Online Shopping & Deals : 50,000,000+\n",
      "OLX - Buy and Sell : 50,000,000+\n",
      "The wall : 1,000,000+\n",
      "Flipp - Weekly Shopping : 10,000,000+\n",
      "Shrimp skin shopping: spend less, buy better : 5,000,000+\n",
      "Lotte Home Shopping LOTTE Homeshopping : 5,000,000+\n",
      "Horn, free country requirements : 1,000,000+\n",
      "Jiji.ng : 1,000,000+\n",
      "GS SHOP : 10,000,000+\n",
      "The birth : 50,000,000+\n",
      "Home & Shopping - Only in apps. 10% off + 10% off : 10,000,000+\n",
      "EHS Dongsen Shopping : 1,000,000+\n",
      "bigbasket - online grocery : 5,000,000+\n",
      "Bukalapak - Buy and Sell Online : 10,000,000+\n",
      "Life market : 1,000,000+\n",
      "Jabong Online Shopping App : 10,000,000+\n",
      "Family Dollar : 1,000,000+\n",
      "Jumia online shopping : 10,000,000+\n",
      "Mercado Libre: Find your favorite brands : 50,000,000+\n",
      "Carousell: Snap-Sell, Chat-Buy : 10,000,000+\n",
      "Blibli.com Online Shopping : 10,000,000+\n",
      "Club Factory Everything, Unbeaten Price : 10,000,000+\n",
      "Real Estate, Car, Shopping and Others : 10,000,000+\n",
      "ZALORA Fashion Shopping : 10,000,000+\n",
      "Magazine Luiza Online Shopping : 10,000,000+\n",
      "ROMWE - Women's Fashion : 10,000,000+\n",
      "Buscapé - Offers and discounts : 10,000,000+\n",
      "Myntra Online Shopping App : 50,000,000+\n",
      "11st : 10,000,000+\n",
      "Coupang : 10,000,000+\n",
      "Wemep - Special price representative (special / shopping / shopping app / coupon / shipping) : 10,000,000+\n",
      "Target - now with Cartwheel : 10,000,000+\n",
      "Flipkart Online Shopping App : 100,000,000+\n",
      "Sam's Club: Wholesale Shopping & Instant Savings : 5,000,000+\n",
      "Chilindo : 1,000,000+\n",
      "Rossmann PL : 5,000,000+\n",
      "Jingdong - pick good things, go to Jingdong : 1,000,000+\n",
      "CheckPoints 🏆 Rewards App : 1,000,000+\n",
      "Extreme Coupon Finder : 1,000,000+\n",
      "SnipSnap Coupon App : 1,000,000+\n",
      "Checkout 51: Grocery coupons : 10,000,000+\n",
      "Coupon Sherpa : 500,000+\n",
      "Gyft - Mobile Gift Card Wallet : 500,000+\n",
      "SavingStar - Grocery Coupons : 1,000,000+\n",
      "The Coupons App : 10,000,000+\n",
      "Shopkick: Free Gift Cards, Shop Rewards & Deals : 10,000,000+\n",
      "Key Ring: Cards Coupon & Sales : 1,000,000+\n",
      "Ibotta: Cash Back Savings, Rewards & Coupons App : 10,000,000+\n",
      "RetailMeNot - Coupons, Deals & Discount Shopping : 10,000,000+\n",
      "Kohl's: Scan, Shop, Pay & Save : 5,000,000+\n",
      "Stocard - Rewards Cards Wallet : 10,000,000+\n",
      "Nike : 1,000,000+\n",
      "Poshmark - Buy & Sell Fashion : 10,000,000+\n",
      "Mercari: The Selling App : 10,000,000+\n",
      "Blidz - Hunt Free Deals On Trending Items! : 50,000+\n",
      "Shopular: Coupons, Weekly Ads & Shopping Deals : 1,000,000+\n",
      "LivingSocial - Local Deals : 5,000,000+\n",
      "Coupons.com – Grocery Coupons & Cash Back Savings : 1,000,000+\n",
      "Ebates: Cash Back, Coupons, Rewards & Savings : 1,000,000+\n",
      "FidMe Loyalty Cards & Deals at Grocery Supermarket : 1,000,000+\n",
      "Ratings by Consumer Reports : 100,000+\n",
      "HauteLook : 500,000+\n",
      "Nordstrom : 500,000+\n",
      "Modcloth – Unique Indie Women's Fashion & Style : 500,000+\n",
      "Fancy : 5,000,000+\n",
      "Twice: Buy, Sell Clothing : 100,000+\n",
      "Slice: Package Tracker : 1,000,000+\n",
      "LightInTheBox Online Shopping : 5,000,000+\n",
      "Best Buy : 5,000,000+\n",
      "JackThreads: Men's Shopping : 1,000,000+\n",
      "zulily - Shop Daily Deals in Fashion and Home : 1,000,000+\n",
      "MiniInTheBox Online Shopping : 1,000,000+\n",
      "Zappos – Shoe shopping made simple : 5,000,000+\n",
      "Urban Outfitters : 500,000+\n",
      "Tophatter - 90 Second Auctions : 10,000,000+\n",
      "Shopfully - Weekly Ads & Deals : 10,000,000+\n",
      "Wanelo Shopping : 1,000,000+\n",
      "Etsy: Handmade & Vintage Goods : 10,000,000+\n",
      "Overstock – Home Decor, Furniture Shopping : 1,000,000+\n",
      "Find&Save - Local Shopping : 500,000+\n",
      "Receipt Hog - Receipts to Cash : 1,000,000+\n",
      "ShopSavvy Barcode & QR Scanner : 10,000,000+\n",
      "Savory - Deals,Freebies,Sales : 100,000+\n",
      "AliExpress - Smarter Shopping, Better Living : 100,000,000+\n",
      "Newegg Mobile : 1,000,000+\n",
      "REI – Shop Outdoor Gear : 100,000+\n",
      "The Home Depot : 5,000,000+\n",
      "Wish - Shopping Made Fun : 100,000,000+\n",
      "Boxed Wholesale : 1,000,000+\n",
      "La La-Shop Designer Brands Street : 500,000+\n",
      "ASOS : 10,000,000+\n",
      "CL Mobile - Classifieds for Craigslist : 1,000,000+\n",
      "CIRCLE K : 500,000+\n",
      "SPEED L : 50,000+\n",
      "Shop 'n Save : 100,000+\n",
      "O Shopping : 100,000+\n",
      "R Studio : 5,000+\n",
      "AB Click2Shop : 100,000+\n",
      "AE + Aerie: Jeans, Dresses, Swimsuits & Bralettes : 1,000,000+\n",
      "AE Checkout Plugin : 10,000+\n",
      "Bazar.af : 500+\n",
      "AzadBazar.af : 100+\n",
      "All States Ag Parts : 10,000+\n",
      "AJ RETAILS : 10+\n",
      "AJ Percent Off Calculator : 10,000+\n",
      "AJ Nails Supply : 100+\n",
      "Wayfair - Shop All Things Home : 5,000,000+\n",
      "A-Y Collection : 100+\n",
      "ePazar.bg : 1,000+\n",
      "Remix Second Hand : 100,000+\n",
      "Grabo.bg : 100,000+\n",
      "B&H Photo Video Pro Audio : 1,000,000+\n",
      "BJ's Wholesale Club : 100,000+\n",
      "BJ’s Mobile App : 500,000+\n",
      "BJ's Express Scan : 10,000+\n",
      "BJ Toys : 500+\n",
      "BL Flowers Digital : 100+\n",
      "B&M Stores : 100,000+\n",
      "BM CRM : 5+\n",
      "postit.bm : 500+\n",
      "My College Bookstore : 100,000+\n",
      "Compas BP Store : 10+\n",
      "IKEA Store : 10,000,000+\n",
      "Bar BQ Night Middlesbrough : 100+\n",
      "4-T's Bar-BQ & Catering : 10+\n",
      "GearBest Online Shopping : 5,000,000+\n",
      "BU Bookstore : 1,000+\n",
      "Hilverda De Boer B.V. App : 500+\n",
      "Schulman B.V. : 100+\n",
      "OLX Uganda Sell Buy Cellphones : 100,000+\n",
      "GITZ.bz : 10+\n",
      "BZ Delivery : 500+\n",
      "ePN Cashback AliExpress : 500,000+\n",
      "Save.ca : 100,000+\n",
      "C.B. Shop : 100+\n",
      "tutti.ch - Free Classifieds : 500,000+\n",
      "ricardo.ch : 500,000+\n",
      "Annonces.ci : 1,000+\n",
      "CJ WOW SHOP : 100,000+\n",
      "CJmall : 10,000,000+\n",
      "Calvin Klein – US Store : 50,000+\n",
      "ck-modelcars Shop : 5,000+\n",
      "ck-modelcars-UK Shop : 5,000+\n",
      "CK Multimedia - Gaming Accessories : 500+\n",
      "CL Mobile Pro - Classifieds for Craigslist : 100,000+\n",
      "CL Pro App for Craigslist : 10,000+\n",
      "CL Pro Client for Craigslist : 5,000+\n",
      "Pro App for Craigslist : 500,000+\n",
      "cPro Marketplace: Buy. Sell. Rent. Date. Jobs. : 10,000,000+\n",
      "Postings (Craigslist Search App) : 5,000,000+\n",
      "Foods Co : 10,000+\n",
      "Co-op Connections : 1,000+\n",
      "Dine In CT - Food Delivery : 1,000+\n",
      "Eshopcy.com.cy : 5,000+\n",
      "CY Digital Net : 500+\n",
      "foody Cyprus - online ordering : 10,000+\n",
      "Šmelina .cz inzeráty inzerce : 10,000+\n",
      "Alzashop.com : 500,000+\n",
      "Strava.cz : 100,000+\n",
      "Dollar General - Digital Coupons, Ads And More : 5,000,000+\n",
      "DG Coupon : 100,000+\n",
      "DG - Digital Coupons - Free Coupon and Discount : 10,000+\n",
      "Krazy Coupon Lady : 1,000,000+\n",
      "Go Go Coupons - Free Coupon and Discount : 1,000+\n",
      "Sharaf DG : 500,000+\n",
      "Coupon Mob - Discount Coupons : 100+\n",
      "DG OFF - 100% Free Coupons & Deals : 10+\n",
      "DHgate-Shop Wholesale Prices : 5,000,000+\n",
      "Shopee: No.1 Belanja Online : 10,000,000+\n",
      "DM Collection : 100+\n",
      "Find Fast Food : 100,000+\n",
      "DT CLOTHINGS : 10+\n",
      "DT Technologies : 10+\n",
      "DTPay : 1,000+\n",
      "DX : 500,000+\n",
      "DZ Mobile Market : 10,000+\n",
      "DZ PROMOS - Promotions & Sale Alerts in Algeria : 50,000+\n",
      "Ouedkniss : 1,000,000+\n",
      "dekoreko-dz : 500+\n",
      "eBay Kleinanzeigen for Germany : 10,000,000+\n",
      "EP Mobil : 100+\n",
      "Groupon - Shop Deals, Discounts & Coupons : 50,000,000+\n",
      "TattooSupplies.eu : 1,000+\n",
      "efootwear.eu - online store : 100,000+\n",
      "E.W. James & Sons : 500+\n",
      "Tenh Ey : 10+\n",
      "FirstCry Baby & Kids Shopping, Fashion & Parenting : 5,000,000+\n",
      "WICShopper : 500,000+\n",
      "Lalafo Pulsuz Elanlar : 1,000,000+\n",
      "Slickdeals: Coupons & Shopping : 1,000,000+\n"
     ]
    }
   ],
   "source": [
    "for app in google_final:\n",
    "    if app[1] == 'SHOPPING':\n",
    "        print(app[0], ':', app[5])"
   ]
  },
  {
   "cell_type": "code",
   "execution_count": 56,
   "metadata": {
    "scrolled": true
   },
   "outputs": [
    {
     "name": "stdout",
     "output_type": "stream",
     "text": [
      "eBay: Buy & Sell this Summer - Discover Deals Now! : 100,000,000+\n",
      "Amazon Shopping : 100,000,000+\n",
      "Flipkart Online Shopping App : 100,000,000+\n",
      "AliExpress - Smarter Shopping, Better Living : 100,000,000+\n",
      "Wish - Shopping Made Fun : 100,000,000+\n"
     ]
    }
   ],
   "source": [
    "\n",
    "for app in google_final:\n",
    "    if app[1] == 'SHOPPING' and (app[5] == '1,000,000,000+'\n",
    "                                            or app[5] == '500,000,000+'\n",
    "                                            or app[5] == '100,000,000+'):\n",
    "        print(app[0], ':', app[5])"
   ]
  },
  {
   "cell_type": "markdown",
   "metadata": {},
   "source": [
    "There are not as many apps in the 100,000,000+ range as much as there are in the 1,000,000+ - 50,000,000+ range. \n",
    "* Consider that these apps are free but the purchases of items on these apps may not be free. \n",
    "* less installs because online shopping requires money"
   ]
  },
  {
   "cell_type": "code",
   "execution_count": 57,
   "metadata": {},
   "outputs": [
    {
     "name": "stdout",
     "output_type": "stream",
     "text": [
      "Amazon for Tablets : 10,000,000+\n",
      "OfferUp - Buy. Sell. Offer Up : 10,000,000+\n",
      "Shopee - No. 1 Online Shopping : 10,000,000+\n",
      "Shopee: No.1 Online Shopping : 10,000,000+\n",
      "Kroger : 5,000,000+\n",
      "Walmart : 10,000,000+\n",
      "letgo: Buy & Sell Used Stuff, Cars & Real Estate : 50,000,000+\n",
      "Lazada - Online Shopping & Deals : 50,000,000+\n",
      "OLX - Buy and Sell : 50,000,000+\n",
      "The wall : 1,000,000+\n",
      "Flipp - Weekly Shopping : 10,000,000+\n",
      "Shrimp skin shopping: spend less, buy better : 5,000,000+\n",
      "Lotte Home Shopping LOTTE Homeshopping : 5,000,000+\n",
      "Horn, free country requirements : 1,000,000+\n",
      "Jiji.ng : 1,000,000+\n",
      "GS SHOP : 10,000,000+\n",
      "The birth : 50,000,000+\n",
      "Home & Shopping - Only in apps. 10% off + 10% off : 10,000,000+\n",
      "EHS Dongsen Shopping : 1,000,000+\n",
      "bigbasket - online grocery : 5,000,000+\n",
      "Bukalapak - Buy and Sell Online : 10,000,000+\n",
      "Life market : 1,000,000+\n",
      "Jabong Online Shopping App : 10,000,000+\n",
      "Family Dollar : 1,000,000+\n",
      "Jumia online shopping : 10,000,000+\n",
      "Mercado Libre: Find your favorite brands : 50,000,000+\n",
      "Carousell: Snap-Sell, Chat-Buy : 10,000,000+\n",
      "Blibli.com Online Shopping : 10,000,000+\n",
      "Club Factory Everything, Unbeaten Price : 10,000,000+\n",
      "Real Estate, Car, Shopping and Others : 10,000,000+\n",
      "ZALORA Fashion Shopping : 10,000,000+\n",
      "Magazine Luiza Online Shopping : 10,000,000+\n",
      "ROMWE - Women's Fashion : 10,000,000+\n",
      "Buscapé - Offers and discounts : 10,000,000+\n",
      "Myntra Online Shopping App : 50,000,000+\n",
      "11st : 10,000,000+\n",
      "Coupang : 10,000,000+\n",
      "Wemep - Special price representative (special / shopping / shopping app / coupon / shipping) : 10,000,000+\n",
      "Target - now with Cartwheel : 10,000,000+\n",
      "Sam's Club: Wholesale Shopping & Instant Savings : 5,000,000+\n",
      "Chilindo : 1,000,000+\n",
      "Rossmann PL : 5,000,000+\n",
      "Jingdong - pick good things, go to Jingdong : 1,000,000+\n",
      "CheckPoints 🏆 Rewards App : 1,000,000+\n",
      "Extreme Coupon Finder : 1,000,000+\n",
      "SnipSnap Coupon App : 1,000,000+\n",
      "Checkout 51: Grocery coupons : 10,000,000+\n",
      "SavingStar - Grocery Coupons : 1,000,000+\n",
      "The Coupons App : 10,000,000+\n",
      "Shopkick: Free Gift Cards, Shop Rewards & Deals : 10,000,000+\n",
      "Key Ring: Cards Coupon & Sales : 1,000,000+\n",
      "Ibotta: Cash Back Savings, Rewards & Coupons App : 10,000,000+\n",
      "RetailMeNot - Coupons, Deals & Discount Shopping : 10,000,000+\n",
      "Kohl's: Scan, Shop, Pay & Save : 5,000,000+\n",
      "Stocard - Rewards Cards Wallet : 10,000,000+\n",
      "Nike : 1,000,000+\n",
      "Poshmark - Buy & Sell Fashion : 10,000,000+\n",
      "Mercari: The Selling App : 10,000,000+\n",
      "Shopular: Coupons, Weekly Ads & Shopping Deals : 1,000,000+\n",
      "LivingSocial - Local Deals : 5,000,000+\n",
      "Coupons.com – Grocery Coupons & Cash Back Savings : 1,000,000+\n",
      "Ebates: Cash Back, Coupons, Rewards & Savings : 1,000,000+\n",
      "FidMe Loyalty Cards & Deals at Grocery Supermarket : 1,000,000+\n",
      "Fancy : 5,000,000+\n",
      "Slice: Package Tracker : 1,000,000+\n",
      "LightInTheBox Online Shopping : 5,000,000+\n",
      "Best Buy : 5,000,000+\n",
      "JackThreads: Men's Shopping : 1,000,000+\n",
      "zulily - Shop Daily Deals in Fashion and Home : 1,000,000+\n",
      "MiniInTheBox Online Shopping : 1,000,000+\n",
      "Zappos – Shoe shopping made simple : 5,000,000+\n",
      "Tophatter - 90 Second Auctions : 10,000,000+\n",
      "Shopfully - Weekly Ads & Deals : 10,000,000+\n",
      "Wanelo Shopping : 1,000,000+\n",
      "Etsy: Handmade & Vintage Goods : 10,000,000+\n",
      "Overstock – Home Decor, Furniture Shopping : 1,000,000+\n",
      "Receipt Hog - Receipts to Cash : 1,000,000+\n",
      "ShopSavvy Barcode & QR Scanner : 10,000,000+\n",
      "Newegg Mobile : 1,000,000+\n",
      "The Home Depot : 5,000,000+\n",
      "Boxed Wholesale : 1,000,000+\n",
      "ASOS : 10,000,000+\n",
      "CL Mobile - Classifieds for Craigslist : 1,000,000+\n",
      "AE + Aerie: Jeans, Dresses, Swimsuits & Bralettes : 1,000,000+\n",
      "Wayfair - Shop All Things Home : 5,000,000+\n",
      "B&H Photo Video Pro Audio : 1,000,000+\n",
      "IKEA Store : 10,000,000+\n",
      "GearBest Online Shopping : 5,000,000+\n",
      "CJmall : 10,000,000+\n",
      "cPro Marketplace: Buy. Sell. Rent. Date. Jobs. : 10,000,000+\n",
      "Postings (Craigslist Search App) : 5,000,000+\n",
      "Dollar General - Digital Coupons, Ads And More : 5,000,000+\n",
      "Krazy Coupon Lady : 1,000,000+\n",
      "DHgate-Shop Wholesale Prices : 5,000,000+\n",
      "Shopee: No.1 Belanja Online : 10,000,000+\n",
      "Ouedkniss : 1,000,000+\n",
      "eBay Kleinanzeigen for Germany : 10,000,000+\n",
      "Groupon - Shop Deals, Discounts & Coupons : 50,000,000+\n",
      "FirstCry Baby & Kids Shopping, Fashion & Parenting : 5,000,000+\n",
      "Lalafo Pulsuz Elanlar : 1,000,000+\n",
      "Slickdeals: Coupons & Shopping : 1,000,000+\n"
     ]
    }
   ],
   "source": [
    "for app in google_final:\n",
    "    if app[1] == 'SHOPPING' and (app[5] == '1,000,000+'\n",
    "                                            or app[5] == '5,000,000+'\n",
    "                                            or app[5] == '10,000,000+'\n",
    "                                            or app[5] == '50,000,000+'):\n",
    "        print(app[0], ':', app[5])"
   ]
  },
  {
   "cell_type": "markdown",
   "metadata": {},
   "source": [
    "The popular item for SHOPPING seems to be most popular in buying and exchanging goods within the 1,000,000+ - 50,000,000+ install range. This might be because the amount of money that it takes to buy items online versus apps that are free to download and have free music, books, communication, or navigation. \n",
    "\n",
    "* Coupon apps and apps known for better discounts are more installed consider shopping apps that allow more discounts and coupons.  \n",
    "* shopping apps with more practicality for home use and lifestyle appear to have more installs like Amazon, home depot, wayfair, ebay. \n",
    "* Suggestions for client would be to develop an app that is a blend of the highest downloaded app (communication apps) and least downloaded app (shopping apps). \n",
    "* Shopping apps have less downloads and have the potential to be sucessful when paired with communication apps. \n",
    "* An app developed specificially for the shopping and buying experience of people of color would allow people of color/diversity to contact other buyers who have given a product review. \n",
    "* This contact would give potential buyers access to former buyers social media to see products in social media feed and ability to live communicate through messenger feature. \n",
    "* This app suggestion comes from my own experience as a person of multiple culture backgrounds I am more likely to purchase an beauty products, clothing, and home goods from people who are most similiar to my ethnicity, culture, race, or lived experiences. "
   ]
  },
  {
   "cell_type": "markdown",
   "metadata": {},
   "source": [
    "## Conclusions \n",
    "In this project, we analyzed data about the App Store and Google Play mobile apps with the goal of recommending an app profile that can be profitable for both markets. \n",
    "\n",
    "We concluded that taking shopping apps could be more profitable for both the Google Play and the App Store markets if the client develops an app that is focused on the shopping and buying experience through the lens of a person of color. This app would give access to social media accounts and messenger so that the buyer and reviewer can communicate about products purchased and used. \n"
   ]
  }
 ],
 "metadata": {
  "kernelspec": {
   "display_name": "Python 3",
   "language": "python",
   "name": "python3"
  },
  "language_info": {
   "codemirror_mode": {
    "name": "ipython",
    "version": 3
   },
   "file_extension": ".py",
   "mimetype": "text/x-python",
   "name": "python",
   "nbconvert_exporter": "python",
   "pygments_lexer": "ipython3",
   "version": "3.7.4"
  }
 },
 "nbformat": 4,
 "nbformat_minor": 2
}
